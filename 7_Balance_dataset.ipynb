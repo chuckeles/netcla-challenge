{
 "cells": [
  {
   "cell_type": "markdown",
   "metadata": {},
   "source": [
    "# Balance the dataset\n",
    "\n",
    "I forgot that the dataset is so inbalanced. That's the reason I've got so bad models. I could not help myself but try to balance the dataset and train one more model. Let's go."
   ]
  },
  {
   "cell_type": "code",
   "execution_count": 1,
   "metadata": {
    "collapsed": true
   },
   "outputs": [],
   "source": [
    "import sys\n",
    "sys.path.append('scripts')\n",
    "\n",
    "%matplotlib inline\n",
    "\n",
    "import random as rnd\n",
    "import numpy as np\n",
    "import pandas as pd\n",
    "import matplotlib.pyplot as plt\n",
    "import seaborn as sb\n",
    "import process\n",
    "from transforms import LowVarianceRemover, BoxcoxTransform\n",
    "from multiprocessing import Pool, Queue\n",
    "from sklearn.base import BaseEstimator, TransformerMixin\n",
    "from sklearn.feature_selection import VarianceThreshold\n",
    "from sklearn.preprocessing import StandardScaler\n",
    "from sklearn.decomposition import PCA\n",
    "from sklearn.naive_bayes import GaussianNB\n",
    "from sklearn.ensemble import ExtraTreesClassifier, BaggingClassifier, VotingClassifier\n",
    "from sklearn.pipeline import make_pipeline\n",
    "from sklearn.model_selection import GridSearchCV\n",
    "from sklearn.metrics import f1_score\n",
    "from sklearn.externals import joblib\n",
    "\n",
    "sb.set_style('dark')"
   ]
  },
  {
   "cell_type": "code",
   "execution_count": 2,
   "metadata": {
    "collapsed": true
   },
   "outputs": [],
   "source": [
    "data = process.load_dataset('data/train.csv', 'data/train_target.csv')"
   ]
  },
  {
   "cell_type": "code",
   "execution_count": 3,
   "metadata": {
    "collapsed": false
   },
   "outputs": [
    {
     "data": {
      "text/plain": [
       "(184788, 50)"
      ]
     },
     "execution_count": 3,
     "metadata": {},
     "output_type": "execute_result"
    }
   ],
   "source": [
    "non_zero = data[data.target != 0]\n",
    "non_zero.shape"
   ]
  },
  {
   "cell_type": "code",
   "execution_count": 4,
   "metadata": {
    "collapsed": false
   },
   "outputs": [
    {
     "data": {
      "text/plain": [
       "9725.6842105263149"
      ]
     },
     "execution_count": 4,
     "metadata": {},
     "output_type": "execute_result"
    }
   ],
   "source": [
    "avg_per_class = non_zero.groupby(by='target').count()[[0]].mean()[0]\n",
    "avg_per_class"
   ]
  },
  {
   "cell_type": "markdown",
   "metadata": {},
   "source": [
    "Now we know the following things:\n",
    "\n",
    "- after removing 0 targets, we are left with about 185000 data points\n",
    "- there are 9725 data points for each class on average"
   ]
  },
  {
   "cell_type": "code",
   "execution_count": 5,
   "metadata": {
    "collapsed": false
   },
   "outputs": [],
   "source": [
    "zero = data[data.target == 0].sample(int(avg_per_class / 3 * 2))"
   ]
  },
  {
   "cell_type": "code",
   "execution_count": 6,
   "metadata": {
    "collapsed": false
   },
   "outputs": [
    {
     "data": {
      "text/html": [
       "<div>\n",
       "<table border=\"1\" class=\"dataframe\">\n",
       "  <thead>\n",
       "    <tr style=\"text-align: right;\">\n",
       "      <th></th>\n",
       "      <th>cli_pl_header</th>\n",
       "      <th>cli_pl_body</th>\n",
       "      <th>cli_cont_len</th>\n",
       "      <th>srv_pl_header</th>\n",
       "      <th>srv_pl_body</th>\n",
       "      <th>srv_cont_len</th>\n",
       "      <th>aggregated_sessions</th>\n",
       "      <th>bytes</th>\n",
       "      <th>net_samples</th>\n",
       "      <th>tcp_frag</th>\n",
       "      <th>...</th>\n",
       "      <th>cli_tx_time</th>\n",
       "      <th>load_time</th>\n",
       "      <th>server_latency</th>\n",
       "      <th>proxy</th>\n",
       "      <th>sp_healthscore</th>\n",
       "      <th>sp_req_duration</th>\n",
       "      <th>sp_is_lat</th>\n",
       "      <th>sp_error</th>\n",
       "      <th>throughput</th>\n",
       "      <th>target</th>\n",
       "    </tr>\n",
       "  </thead>\n",
       "  <tbody>\n",
       "    <tr>\n",
       "      <th>0</th>\n",
       "      <td>667</td>\n",
       "      <td>0</td>\n",
       "      <td>0</td>\n",
       "      <td>336</td>\n",
       "      <td>143151</td>\n",
       "      <td>143151</td>\n",
       "      <td>1</td>\n",
       "      <td>155494</td>\n",
       "      <td>1</td>\n",
       "      <td>0</td>\n",
       "      <td>...</td>\n",
       "      <td>0.0</td>\n",
       "      <td>766.522</td>\n",
       "      <td>1.097</td>\n",
       "      <td>0</td>\n",
       "      <td>0</td>\n",
       "      <td>0</td>\n",
       "      <td>0</td>\n",
       "      <td>0</td>\n",
       "      <td>202.856539</td>\n",
       "      <td>8</td>\n",
       "    </tr>\n",
       "    <tr>\n",
       "      <th>1</th>\n",
       "      <td>667</td>\n",
       "      <td>0</td>\n",
       "      <td>0</td>\n",
       "      <td>336</td>\n",
       "      <td>143151</td>\n",
       "      <td>143151</td>\n",
       "      <td>1</td>\n",
       "      <td>310988</td>\n",
       "      <td>1</td>\n",
       "      <td>0</td>\n",
       "      <td>...</td>\n",
       "      <td>0.0</td>\n",
       "      <td>766.496</td>\n",
       "      <td>1.494</td>\n",
       "      <td>0</td>\n",
       "      <td>0</td>\n",
       "      <td>0</td>\n",
       "      <td>0</td>\n",
       "      <td>0</td>\n",
       "      <td>405.726840</td>\n",
       "      <td>8</td>\n",
       "    </tr>\n",
       "    <tr>\n",
       "      <th>2</th>\n",
       "      <td>667</td>\n",
       "      <td>0</td>\n",
       "      <td>0</td>\n",
       "      <td>336</td>\n",
       "      <td>143151</td>\n",
       "      <td>143151</td>\n",
       "      <td>1</td>\n",
       "      <td>310988</td>\n",
       "      <td>1</td>\n",
       "      <td>0</td>\n",
       "      <td>...</td>\n",
       "      <td>0.0</td>\n",
       "      <td>766.544</td>\n",
       "      <td>1.104</td>\n",
       "      <td>0</td>\n",
       "      <td>0</td>\n",
       "      <td>0</td>\n",
       "      <td>0</td>\n",
       "      <td>0</td>\n",
       "      <td>405.701434</td>\n",
       "      <td>8</td>\n",
       "    </tr>\n",
       "    <tr>\n",
       "      <th>3</th>\n",
       "      <td>592</td>\n",
       "      <td>0</td>\n",
       "      <td>0</td>\n",
       "      <td>238</td>\n",
       "      <td>1269</td>\n",
       "      <td>1269</td>\n",
       "      <td>1</td>\n",
       "      <td>2401</td>\n",
       "      <td>1</td>\n",
       "      <td>0</td>\n",
       "      <td>...</td>\n",
       "      <td>0.0</td>\n",
       "      <td>293.212</td>\n",
       "      <td>1.639</td>\n",
       "      <td>0</td>\n",
       "      <td>0</td>\n",
       "      <td>0</td>\n",
       "      <td>0</td>\n",
       "      <td>0</td>\n",
       "      <td>8.188614</td>\n",
       "      <td>5</td>\n",
       "    </tr>\n",
       "    <tr>\n",
       "      <th>4</th>\n",
       "      <td>592</td>\n",
       "      <td>0</td>\n",
       "      <td>0</td>\n",
       "      <td>238</td>\n",
       "      <td>1269</td>\n",
       "      <td>1269</td>\n",
       "      <td>1</td>\n",
       "      <td>4802</td>\n",
       "      <td>1</td>\n",
       "      <td>0</td>\n",
       "      <td>...</td>\n",
       "      <td>0.0</td>\n",
       "      <td>293.205</td>\n",
       "      <td>1.646</td>\n",
       "      <td>0</td>\n",
       "      <td>0</td>\n",
       "      <td>0</td>\n",
       "      <td>0</td>\n",
       "      <td>0</td>\n",
       "      <td>16.377620</td>\n",
       "      <td>5</td>\n",
       "    </tr>\n",
       "  </tbody>\n",
       "</table>\n",
       "<p>5 rows × 50 columns</p>\n",
       "</div>"
      ],
      "text/plain": [
       "   cli_pl_header  cli_pl_body  cli_cont_len  srv_pl_header  srv_pl_body  \\\n",
       "0            667            0             0            336       143151   \n",
       "1            667            0             0            336       143151   \n",
       "2            667            0             0            336       143151   \n",
       "3            592            0             0            238         1269   \n",
       "4            592            0             0            238         1269   \n",
       "\n",
       "   srv_cont_len  aggregated_sessions   bytes  net_samples  tcp_frag   ...    \\\n",
       "0        143151                    1  155494            1         0   ...     \n",
       "1        143151                    1  310988            1         0   ...     \n",
       "2        143151                    1  310988            1         0   ...     \n",
       "3          1269                    1    2401            1         0   ...     \n",
       "4          1269                    1    4802            1         0   ...     \n",
       "\n",
       "   cli_tx_time  load_time  server_latency  proxy  sp_healthscore  \\\n",
       "0          0.0    766.522           1.097      0               0   \n",
       "1          0.0    766.496           1.494      0               0   \n",
       "2          0.0    766.544           1.104      0               0   \n",
       "3          0.0    293.212           1.639      0               0   \n",
       "4          0.0    293.205           1.646      0               0   \n",
       "\n",
       "   sp_req_duration  sp_is_lat  sp_error  throughput  target  \n",
       "0                0          0         0  202.856539       8  \n",
       "1                0          0         0  405.726840       8  \n",
       "2                0          0         0  405.701434       8  \n",
       "3                0          0         0    8.188614       5  \n",
       "4                0          0         0   16.377620       5  \n",
       "\n",
       "[5 rows x 50 columns]"
      ]
     },
     "execution_count": 6,
     "metadata": {},
     "output_type": "execute_result"
    }
   ],
   "source": [
    "balanced_data = pd.concat([non_zero, zero])\n",
    "balanced_data.head()"
   ]
  },
  {
   "cell_type": "code",
   "execution_count": 7,
   "metadata": {
    "collapsed": false
   },
   "outputs": [
    {
     "data": {
      "text/plain": [
       "(191271, 50)"
      ]
     },
     "execution_count": 7,
     "metadata": {},
     "output_type": "execute_result"
    }
   ],
   "source": [
    "balanced_data.shape"
   ]
  },
  {
   "cell_type": "markdown",
   "metadata": {},
   "source": [
    "Now we have a balanced dataset. Let's train a model.\n",
    "\n",
    "## Extra trees"
   ]
  },
  {
   "cell_type": "code",
   "execution_count": 8,
   "metadata": {
    "collapsed": false
   },
   "outputs": [],
   "source": [
    "pipeline = make_pipeline(\n",
    "    LowVarianceRemover(),\n",
    "    PCA(0.95),\n",
    "    BoxcoxTransform(),\n",
    "    StandardScaler(),\n",
    "    ExtraTreesClassifier(n_jobs=-1, verbose=2)\n",
    ")"
   ]
  },
  {
   "cell_type": "code",
   "execution_count": 9,
   "metadata": {
    "collapsed": false,
    "scrolled": true
   },
   "outputs": [
    {
     "name": "stdout",
     "output_type": "stream",
     "text": [
      "Fitting 3 folds for each of 3 candidates, totalling 9 fits\n",
      "[CV] extratreesclassifier__max_depth=1 ...............................\n",
      "[CV] extratreesclassifier__max_depth=1 ...............................\n",
      "[CV] extratreesclassifier__max_depth=1 ...............................\n",
      "[CV] extratreesclassifier__max_depth=2 ...............................\n",
      "[CV] extratreesclassifier__max_depth=2 ...............................\n",
      "[CV] extratreesclassifier__max_depth=2 ...............................\n",
      "[CV] extratreesclassifier__max_depth=3 ...............................\n",
      "[CV] extratreesclassifier__max_depth=3 ...............................\n",
      "building tree 5 of 10\n",
      "building tree 1 of 10\n",
      "building tree 4 of 10\n",
      "building tree 2 of 10\n",
      "building tree 7 of 10\n",
      "building tree 8 of 10\n",
      "building tree 3 of 10\n",
      "building tree 6 of 10\n",
      "building tree 9 of 10\n",
      "building tree 10 of 10\n"
     ]
    },
    {
     "name": "stderr",
     "output_type": "stream",
     "text": [
      "[Parallel(n_jobs=-1)]: Done   7 out of  10 | elapsed:    0.1s remaining:    0.1s\n",
      "[Parallel(n_jobs=-1)]: Done  10 out of  10 | elapsed:    0.2s finished\n"
     ]
    },
    {
     "name": "stdout",
     "output_type": "stream",
     "text": [
      "building tree 3 of 10\n",
      "building tree 8 of 10\n",
      "building tree 1 of 10\n",
      "building tree 7 of 10\n",
      "building tree 4 of 10\n",
      "building tree 2 of 10\n",
      "building tree 5 of 10\n",
      "building tree 6 of 10\n",
      "building tree 10 of 10\n",
      "building tree 9 of 10\n"
     ]
    },
    {
     "name": "stderr",
     "output_type": "stream",
     "text": [
      "[Parallel(n_jobs=-1)]: Done   7 out of  10 | elapsed:    0.1s remaining:    0.0s\n",
      "[Parallel(n_jobs=-1)]: Done  10 out of  10 | elapsed:    0.1s finished\n"
     ]
    },
    {
     "name": "stdout",
     "output_type": "stream",
     "text": [
      "building tree 1 of 10\n",
      "building tree 6 of 10\n",
      "building tree 3 of 10\n",
      "building tree 5 of 10\n",
      "building tree 8 of 10\n",
      "building tree 4 of 10\n",
      "building tree 2 of 10\n",
      "building tree 7 of 10\n",
      "building tree 10 of 10\n"
     ]
    },
    {
     "name": "stderr",
     "output_type": "stream",
     "text": [
      "[Parallel(n_jobs=-1)]: Done   7 out of  10 | elapsed:    0.1s remaining:    0.0s\n"
     ]
    },
    {
     "name": "stdout",
     "output_type": "stream",
     "text": [
      "building tree 9 of 10\n"
     ]
    },
    {
     "name": "stderr",
     "output_type": "stream",
     "text": [
      "[Parallel(n_jobs=-1)]: Done  10 out of  10 | elapsed:    0.1s finished\n"
     ]
    },
    {
     "name": "stdout",
     "output_type": "stream",
     "text": [
      "building tree 8 of 10\n",
      "building tree 5 of 10\n",
      "building tree 1 of 10\n",
      "building tree 3 of 10\n",
      "building tree 2 of 10\n",
      "building tree 6 of 10\n",
      "building tree 4 of 10\n",
      "building tree 7 of 10\n",
      "building tree 10 of 10\n",
      "building tree 9 of 10\n"
     ]
    },
    {
     "name": "stderr",
     "output_type": "stream",
     "text": [
      "[Parallel(n_jobs=-1)]: Done   7 out of  10 | elapsed:    0.1s remaining:    0.0s\n"
     ]
    },
    {
     "name": "stdout",
     "output_type": "stream",
     "text": [
      "building tree 6 of 10\n",
      "building tree 1 of 10\n",
      "building tree 4 of 10\n",
      "building tree 3 of 10\n",
      "building tree 7 of 10\n"
     ]
    },
    {
     "name": "stderr",
     "output_type": "stream",
     "text": [
      "[Parallel(n_jobs=-1)]: Done  10 out of  10 | elapsed:    0.1s finished\n"
     ]
    },
    {
     "name": "stdout",
     "output_type": "stream",
     "text": [
      "building tree 8 of 10\n",
      "building tree 2 of 10\n",
      "building tree 5 of 10\n",
      "building tree 10 of 10\n",
      "building tree 9 of 10\n"
     ]
    },
    {
     "name": "stderr",
     "output_type": "stream",
     "text": [
      "[Parallel(n_jobs=-1)]: Done   7 out of  10 | elapsed:    0.1s remaining:    0.1s\n",
      "[Parallel(n_jobs=-1)]: Done  10 out of  10 | elapsed:    0.1s finished\n"
     ]
    },
    {
     "name": "stdout",
     "output_type": "stream",
     "text": [
      "building tree 4 of 10\n",
      "building tree 3 of 10\n",
      "building tree 2 of 10\n",
      "building tree 1 of 10\n",
      "building tree 8 of 10\n",
      "building tree 6 of 10\n",
      "building tree 7 of 10\n",
      "building tree 5 of 10\n",
      "building tree 9 of 10\n",
      "building tree 10 of 10\n"
     ]
    },
    {
     "name": "stderr",
     "output_type": "stream",
     "text": [
      "[Parallel(n_jobs=-1)]: Done   7 out of  10 | elapsed:    0.1s remaining:    0.1s\n",
      "[Parallel(n_jobs=-1)]: Done  10 out of  10 | elapsed:    0.1s finished\n"
     ]
    },
    {
     "name": "stdout",
     "output_type": "stream",
     "text": [
      "building tree 6 of 10\n",
      "building tree 3 of 10\n",
      "building tree 4 of 10\n",
      "building tree 2 of 10\n",
      "building tree 5 of 10\n",
      "building tree 7 of 10\n",
      "building tree 8 of 10\n",
      "building tree 1 of 10\n",
      "building tree 10 of 10\n",
      "building tree 9 of 10\n"
     ]
    },
    {
     "name": "stderr",
     "output_type": "stream",
     "text": [
      "[Parallel(n_jobs=8)]: Done   7 out of  10 | elapsed:    0.0s remaining:    0.0s\n",
      "[Parallel(n_jobs=8)]: Done  10 out of  10 | elapsed:    0.0s finished\n",
      "[Parallel(n_jobs=-1)]: Done   7 out of  10 | elapsed:    0.1s remaining:    0.0s\n",
      "[Parallel(n_jobs=-1)]: Done  10 out of  10 | elapsed:    0.1s finished\n"
     ]
    },
    {
     "name": "stdout",
     "output_type": "stream",
     "text": [
      "building tree 6 of 10\n",
      "building tree 4 of 10\n",
      "building tree 8 of 10\n",
      "building tree 7 of 10\n",
      "building tree 3 of 10\n",
      "building tree 1 of 10\n",
      "building tree 2 of 10\n",
      "building tree 5 of 10\n",
      "building tree 9 of 10\n",
      "building tree 10 of 10\n"
     ]
    },
    {
     "name": "stderr",
     "output_type": "stream",
     "text": [
      "[Parallel(n_jobs=-1)]: Done   7 out of  10 | elapsed:    0.1s remaining:    0.0s\n",
      "[Parallel(n_jobs=-1)]: Done  10 out of  10 | elapsed:    0.1s finished\n",
      "[Parallel(n_jobs=8)]: Done   7 out of  10 | elapsed:    0.0s remaining:    0.0s\n",
      "[Parallel(n_jobs=8)]: Done  10 out of  10 | elapsed:    0.1s finished\n",
      "[Parallel(n_jobs=8)]: Done   7 out of  10 | elapsed:    0.0s remaining:    0.0s\n",
      "[Parallel(n_jobs=8)]: Done  10 out of  10 | elapsed:    0.0s finished\n",
      "[Parallel(n_jobs=8)]: Done   7 out of  10 | elapsed:    0.0s remaining:    0.0s\n",
      "[Parallel(n_jobs=8)]: Done  10 out of  10 | elapsed:    0.0s finished\n",
      "[Parallel(n_jobs=8)]: Done   7 out of  10 | elapsed:    0.0s remaining:    0.0s\n",
      "[Parallel(n_jobs=8)]: Done  10 out of  10 | elapsed:    0.0s finished\n",
      "[Parallel(n_jobs=8)]: Done   7 out of  10 | elapsed:    0.0s remaining:    0.0s\n",
      "[Parallel(n_jobs=8)]: Done  10 out of  10 | elapsed:    0.0s finished\n",
      "[Parallel(n_jobs=8)]: Done   7 out of  10 | elapsed:    0.0s remaining:    0.0s\n",
      "[Parallel(n_jobs=8)]: Done  10 out of  10 | elapsed:    0.0s finished\n",
      "[Parallel(n_jobs=8)]: Done   7 out of  10 | elapsed:    0.0s remaining:    0.0s\n",
      "[Parallel(n_jobs=8)]: Done  10 out of  10 | elapsed:    0.0s finished\n",
      "[Parallel(n_jobs=8)]: Done   7 out of  10 | elapsed:    0.1s remaining:    0.0s\n",
      "[Parallel(n_jobs=8)]: Done  10 out of  10 | elapsed:    0.1s finished\n"
     ]
    },
    {
     "name": "stdout",
     "output_type": "stream",
     "text": [
      "[CV] ................ extratreesclassifier__max_depth=1, total=   7.3s\n",
      "[CV] extratreesclassifier__max_depth=3 ...............................\n"
     ]
    },
    {
     "name": "stderr",
     "output_type": "stream",
     "text": [
      "[Parallel(n_jobs=8)]: Done   7 out of  10 | elapsed:    0.0s remaining:    0.0s\n",
      "[Parallel(n_jobs=8)]: Done  10 out of  10 | elapsed:    0.1s finished\n"
     ]
    },
    {
     "name": "stdout",
     "output_type": "stream",
     "text": [
      "[CV] ................ extratreesclassifier__max_depth=2, total=   7.7s\n"
     ]
    },
    {
     "name": "stderr",
     "output_type": "stream",
     "text": [
      "[Parallel(n_jobs=8)]: Done   7 out of  10 | elapsed:    0.1s remaining:    0.0s\n",
      "[Parallel(n_jobs=8)]: Done  10 out of  10 | elapsed:    0.1s finished\n",
      "[Parallel(n_jobs=8)]: Done   7 out of  10 | elapsed:    0.1s remaining:    0.0s\n",
      "[Parallel(n_jobs=8)]: Done  10 out of  10 | elapsed:    0.1s finished\n"
     ]
    },
    {
     "name": "stdout",
     "output_type": "stream",
     "text": [
      "[CV] ................ extratreesclassifier__max_depth=1, total=   8.0s\n",
      "[CV] ................ extratreesclassifier__max_depth=3, total=   7.7s\n"
     ]
    },
    {
     "name": "stderr",
     "output_type": "stream",
     "text": [
      "[Parallel(n_jobs=-1)]: Done   4 out of   9 | elapsed:   12.9s remaining:   16.1s\n",
      "[Parallel(n_jobs=8)]: Done   7 out of  10 | elapsed:    0.1s remaining:    0.0s\n",
      "[Parallel(n_jobs=8)]: Done  10 out of  10 | elapsed:    0.1s finished\n"
     ]
    },
    {
     "name": "stdout",
     "output_type": "stream",
     "text": [
      "[CV] ................ extratreesclassifier__max_depth=2, total=   8.3s\n"
     ]
    },
    {
     "name": "stderr",
     "output_type": "stream",
     "text": [
      "[Parallel(n_jobs=8)]: Done   7 out of  10 | elapsed:    0.1s remaining:    0.0s\n",
      "[Parallel(n_jobs=8)]: Done  10 out of  10 | elapsed:    0.1s finished\n"
     ]
    },
    {
     "name": "stdout",
     "output_type": "stream",
     "text": [
      "[CV] ................ extratreesclassifier__max_depth=1, total=   9.4s\n"
     ]
    },
    {
     "name": "stderr",
     "output_type": "stream",
     "text": [
      "[Parallel(n_jobs=8)]: Done   7 out of  10 | elapsed:    0.1s remaining:    0.0s\n",
      "[Parallel(n_jobs=8)]: Done  10 out of  10 | elapsed:    0.1s finished\n"
     ]
    },
    {
     "name": "stdout",
     "output_type": "stream",
     "text": [
      "[CV] ................ extratreesclassifier__max_depth=2, total=   9.8s\n"
     ]
    },
    {
     "name": "stderr",
     "output_type": "stream",
     "text": [
      "[Parallel(n_jobs=8)]: Done   7 out of  10 | elapsed:    0.0s remaining:    0.0s\n",
      "[Parallel(n_jobs=8)]: Done  10 out of  10 | elapsed:    0.1s finished\n"
     ]
    },
    {
     "name": "stdout",
     "output_type": "stream",
     "text": [
      "[CV] ................ extratreesclassifier__max_depth=3, total=  10.0s\n",
      "building tree 2 of 10\n",
      "building tree 3 of 10\n",
      "building tree 8 of 10\n",
      "building tree 5 of 10\n",
      "building tree 7 of 10\n",
      "building tree 1 of 10\n",
      "building tree 6 of 10\n",
      "building tree 4 of 10\n",
      "building tree 9 of 10\n",
      "building tree 10 of 10\n"
     ]
    },
    {
     "name": "stderr",
     "output_type": "stream",
     "text": [
      "[Parallel(n_jobs=-1)]: Done   7 out of  10 | elapsed:    0.1s remaining:    0.0s\n",
      "[Parallel(n_jobs=-1)]: Done  10 out of  10 | elapsed:    0.1s finished\n",
      "[Parallel(n_jobs=8)]: Done   7 out of  10 | elapsed:    0.0s remaining:    0.0s\n",
      "[Parallel(n_jobs=8)]: Done  10 out of  10 | elapsed:    0.0s finished\n",
      "[Parallel(n_jobs=8)]: Done   7 out of  10 | elapsed:    0.0s remaining:    0.0s\n",
      "[Parallel(n_jobs=8)]: Done  10 out of  10 | elapsed:    0.1s finished\n"
     ]
    },
    {
     "name": "stdout",
     "output_type": "stream",
     "text": [
      "[CV] ................ extratreesclassifier__max_depth=3, total=   5.1s\n"
     ]
    },
    {
     "name": "stderr",
     "output_type": "stream",
     "text": [
      "[Parallel(n_jobs=-1)]: Done   9 out of   9 | elapsed:   18.9s remaining:    0.0s\n",
      "[Parallel(n_jobs=-1)]: Done   9 out of   9 | elapsed:   18.9s finished\n"
     ]
    },
    {
     "name": "stdout",
     "output_type": "stream",
     "text": [
      "building tree 1 of 10building tree 4 of 10building tree 2 of 10building tree 5 of 10building tree 3 of 10building tree 6 of 10building tree 7 of 10building tree 8 of 10\n",
      "\n",
      "\n",
      "\n",
      "\n",
      "\n",
      "\n",
      "\n",
      "building tree 9 of 10\n",
      "building tree 10 of 10\n",
      "CPU times: user 5.64 s, sys: 504 ms, total: 6.15 s\n",
      "Wall time: 23.2 s\n"
     ]
    },
    {
     "name": "stderr",
     "output_type": "stream",
     "text": [
      "[Parallel(n_jobs=-1)]: Done   7 out of  10 | elapsed:    0.1s remaining:    0.0s\n",
      "[Parallel(n_jobs=-1)]: Done  10 out of  10 | elapsed:    0.1s finished\n"
     ]
    }
   ],
   "source": [
    "%%time\n",
    "model = GridSearchCV(pipeline, dict(extratreesclassifier__max_depth=[1, 2, 3]), n_jobs=-1, verbose=2, error_score=0)\n",
    "model.fit(balanced_data.drop('target', axis=1), balanced_data.target)"
   ]
  },
  {
   "cell_type": "code",
   "execution_count": 10,
   "metadata": {
    "collapsed": false
   },
   "outputs": [
    {
     "data": {
      "text/plain": [
       "{'extratreesclassifier__max_depth': 1}"
      ]
     },
     "execution_count": 10,
     "metadata": {},
     "output_type": "execute_result"
    }
   ],
   "source": [
    "model.best_params_"
   ]
  },
  {
   "cell_type": "markdown",
   "metadata": {},
   "source": [
    "Now let's evaluate the model."
   ]
  },
  {
   "cell_type": "code",
   "execution_count": 11,
   "metadata": {
    "collapsed": true
   },
   "outputs": [],
   "source": [
    "val_data, _ = process.load_dataset_target('data/valid.csv', 'data/valid_target.csv')"
   ]
  },
  {
   "cell_type": "code",
   "execution_count": 12,
   "metadata": {
    "collapsed": false
   },
   "outputs": [
    {
     "name": "stderr",
     "output_type": "stream",
     "text": [
      "[Parallel(n_jobs=8)]: Done   7 out of  10 | elapsed:    0.3s remaining:    0.1s\n",
      "[Parallel(n_jobs=8)]: Done  10 out of  10 | elapsed:    0.4s finished\n"
     ]
    }
   ],
   "source": [
    "predicted = pd.DataFrame(model.predict(val_data))\n",
    "predicted.to_csv('predictions/extratrees.csv', header=False, index=False)"
   ]
  },
  {
   "cell_type": "code",
   "execution_count": 13,
   "metadata": {
    "collapsed": false
   },
   "outputs": [
    {
     "name": "stdout",
     "output_type": "stream",
     "text": [
      "\n",
      "Evaluating predictions/extratrees.csv using as gold labels data/valid_target.csv\n",
      "\n",
      "Detailed Report:\n",
      "  category  ||   precision  ||     recall   ||       F1     ||    examples  ||\n",
      "=============================================================================\n",
      "1           ||        0.0000||        0.0000||        0.0000||           644||\n",
      "4           ||        0.0000||        0.0000||        0.0000||          6736||\n",
      "5           ||        0.0000||        0.0000||        0.0000||          8104||\n",
      "6           ||        0.0000||        0.0000||        0.0000||         13764||\n",
      "8           ||        0.0000||        0.0000||        0.0000||         40961||\n",
      "12          ||        0.0420||        1.0000||        0.0807||         31985||\n",
      "13          ||        0.0000||        0.0000||        0.0000||          2807||\n",
      "14          ||        0.0000||        0.0000||        0.0000||         22590||\n",
      "15          ||        0.0000||        0.0000||        0.0000||           781||\n",
      "19          ||        0.0000||        0.0000||        0.0000||          5482||\n",
      "20          ||        0.0000||        0.0000||        0.0000||          2013||\n",
      "23          ||        0.0000||        0.0000||        0.0000||           188||\n",
      "25          ||        0.0000||        0.0000||        0.0000||           352||\n",
      "27          ||        0.0000||        0.0000||        0.0000||           662||\n",
      "29          ||        0.0000||        0.0000||        0.0000||           235||\n",
      "34          ||        0.0000||        0.0000||        0.0000||           206||\n",
      "35          ||        0.0000||        0.0000||        0.0000||           527||\n",
      "36          ||        0.0000||        0.0000||        0.0000||          4885||\n",
      "42          ||        0.0000||        0.0000||        0.0000||          2831||\n",
      "=============================================================================\n",
      "Macro       ||        0.0022||        0.0526||        0.0042||        145753||\n",
      "Micro       ||        0.0420||        0.2194||        0.0705||        145753||\n",
      "=============================================================================\n"
     ]
    }
   ],
   "source": [
    "%%bash\n",
    "python3 scripts/eval.py data/valid_target.csv predictions/extratrees.csv"
   ]
  },
  {
   "cell_type": "markdown",
   "metadata": {},
   "source": [
    "## Bagging"
   ]
  },
  {
   "cell_type": "code",
   "execution_count": 14,
   "metadata": {
    "collapsed": true
   },
   "outputs": [],
   "source": [
    "pipeline_ens_bagging = make_pipeline(\n",
    "    VarianceThreshold(),\n",
    "    BoxcoxTransform(),\n",
    "    StandardScaler(),\n",
    "    BaggingClassifier(n_jobs=-1, verbose=2)\n",
    ")\n",
    "pipeline_ens_bayes = make_pipeline(\n",
    "    LowVarianceRemover(),\n",
    "    PCA(0.95),\n",
    "    BoxcoxTransform(),\n",
    "    StandardScaler(),\n",
    "    GaussianNB()\n",
    ")"
   ]
  },
  {
   "cell_type": "code",
   "execution_count": 15,
   "metadata": {
    "collapsed": false,
    "scrolled": true
   },
   "outputs": [
    {
     "name": "stderr",
     "output_type": "stream",
     "text": [
      "/usr/local/lib/python3.5/site-packages/scipy/stats/morestats.py:905: RuntimeWarning: overflow encountered in square\n",
      "  llf -= N / 2.0 * np.log(np.sum((y - y_mean)**2. / N, axis=0))\n",
      "/usr/local/lib/python3.5/site-packages/scipy/optimize/optimize.py:1876: RuntimeWarning: invalid value encountered in double_scalars\n",
      "  tmp2 = (x - v) * (fx - fw)\n"
     ]
    },
    {
     "name": "stdout",
     "output_type": "stream",
     "text": [
      "Building estimator 1 of 2 for this parallel run (total 10)...\n",
      "Building estimator 1 of 2 for this parallel run (total 10)...\n",
      "Building estimator 1 of 1 for this parallel run (total 10)...\n",
      "Building estimator 1 of 1 for this parallel run (total 10)...\n",
      "Building estimator 1 of 1 for this parallel run (total 10)...\n",
      "Building estimator 1 of 1 for this parallel run (total 10)...\n",
      "Building estimator 1 of 1 for this parallel run (total 10)...\n",
      "Building estimator 1 of 1 for this parallel run (total 10)...\n",
      "Building estimator 2 of 2 for this parallel run (total 10)...\n",
      "Building estimator 2 of 2 for this parallel run (total 10)...\n"
     ]
    },
    {
     "name": "stderr",
     "output_type": "stream",
     "text": [
      "[Parallel(n_jobs=8)]: Done   3 out of   8 | elapsed:    6.1s remaining:   10.2s\n",
      "[Parallel(n_jobs=8)]: Done   8 out of   8 | elapsed:    9.5s remaining:    0.0s\n",
      "[Parallel(n_jobs=8)]: Done   8 out of   8 | elapsed:    9.5s finished\n"
     ]
    },
    {
     "name": "stdout",
     "output_type": "stream",
     "text": [
      "CPU times: user 44 s, sys: 6.47 s, total: 50.4 s\n",
      "Wall time: 58.9 s\n"
     ]
    }
   ],
   "source": [
    "%%time\n",
    "model_ens = VotingClassifier([\n",
    "    ('bagging', pipeline_ens_bagging),\n",
    "    ('bayes', pipeline_ens_bayes)\n",
    "])\n",
    "model_ens.fit(balanced_data.drop('target', axis=1), balanced_data.target)"
   ]
  },
  {
   "cell_type": "markdown",
   "metadata": {},
   "source": [
    "Now let's evaluate this model, too."
   ]
  },
  {
   "cell_type": "code",
   "execution_count": 16,
   "metadata": {
    "collapsed": false
   },
   "outputs": [
    {
     "name": "stderr",
     "output_type": "stream",
     "text": [
      "[Parallel(n_jobs=8)]: Done   7 out of  10 | elapsed:    0.3s remaining:    0.1s\n",
      "[Parallel(n_jobs=8)]: Done  10 out of  10 | elapsed:    0.4s finished\n"
     ]
    }
   ],
   "source": [
    "predicted_ens = pd.DataFrame(model.predict(val_data))\n",
    "predicted_ens.to_csv('predictions/ensemble.csv', header=False, index=False)"
   ]
  },
  {
   "cell_type": "code",
   "execution_count": 17,
   "metadata": {
    "collapsed": false
   },
   "outputs": [
    {
     "name": "stdout",
     "output_type": "stream",
     "text": [
      "\n",
      "Evaluating predictions/ensemble.csv using as gold labels data/valid_target.csv\n",
      "\n",
      "Detailed Report:\n",
      "  category  ||   precision  ||     recall   ||       F1     ||    examples  ||\n",
      "=============================================================================\n",
      "1           ||        0.0000||        0.0000||        0.0000||           644||\n",
      "4           ||        0.0000||        0.0000||        0.0000||          6736||\n",
      "5           ||        0.0000||        0.0000||        0.0000||          8104||\n",
      "6           ||        0.0000||        0.0000||        0.0000||         13764||\n",
      "8           ||        0.0000||        0.0000||        0.0000||         40961||\n",
      "12          ||        0.0420||        1.0000||        0.0807||         31985||\n",
      "13          ||        0.0000||        0.0000||        0.0000||          2807||\n",
      "14          ||        0.0000||        0.0000||        0.0000||         22590||\n",
      "15          ||        0.0000||        0.0000||        0.0000||           781||\n",
      "19          ||        0.0000||        0.0000||        0.0000||          5482||\n",
      "20          ||        0.0000||        0.0000||        0.0000||          2013||\n",
      "23          ||        0.0000||        0.0000||        0.0000||           188||\n",
      "25          ||        0.0000||        0.0000||        0.0000||           352||\n",
      "27          ||        0.0000||        0.0000||        0.0000||           662||\n",
      "29          ||        0.0000||        0.0000||        0.0000||           235||\n",
      "34          ||        0.0000||        0.0000||        0.0000||           206||\n",
      "35          ||        0.0000||        0.0000||        0.0000||           527||\n",
      "36          ||        0.0000||        0.0000||        0.0000||          4885||\n",
      "42          ||        0.0000||        0.0000||        0.0000||          2831||\n",
      "=============================================================================\n",
      "Macro       ||        0.0022||        0.0526||        0.0042||        145753||\n",
      "Micro       ||        0.0420||        0.2194||        0.0705||        145753||\n",
      "=============================================================================\n"
     ]
    }
   ],
   "source": [
    "%%bash\n",
    "python3 scripts/eval.py data/valid_target.csv predictions/ensemble.csv"
   ]
  },
  {
   "cell_type": "markdown",
   "metadata": {},
   "source": [
    "To be honest, I expected a better improvement. But I don't know what else to improve, so that's it."
   ]
  }
 ],
 "metadata": {
  "kernelspec": {
   "display_name": "Python 3",
   "language": "python",
   "name": "python3"
  },
  "language_info": {
   "codemirror_mode": {
    "name": "ipython",
    "version": 3
   },
   "file_extension": ".py",
   "mimetype": "text/x-python",
   "name": "python",
   "nbconvert_exporter": "python",
   "pygments_lexer": "ipython3",
   "version": "3.5.2"
  }
 },
 "nbformat": 4,
 "nbformat_minor": 2
}

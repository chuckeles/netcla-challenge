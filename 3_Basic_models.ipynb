{
 "cells": [
  {
   "cell_type": "markdown",
   "metadata": {},
   "source": [
    "# Basic models\n",
    "\n",
    "The point of this section is to train a couple of basic models and see how they perform. We want to create a pipeline for the training data and also use the validation data to validate models and calculate scores."
   ]
  },
  {
   "cell_type": "code",
   "execution_count": 1,
   "metadata": {
    "collapsed": true
   },
   "outputs": [],
   "source": [
    "import sys\n",
    "sys.path.append('scripts')\n",
    "\n",
    "%matplotlib inline\n",
    "\n",
    "import random as rnd\n",
    "import numpy as np\n",
    "import pandas as pd\n",
    "import matplotlib.pyplot as plt\n",
    "import seaborn as sb\n",
    "import process\n",
    "import transforms\n",
    "from scipy.stats import boxcox\n",
    "from sklearn.base import BaseEstimator, TransformerMixin\n",
    "from sklearn.preprocessing import StandardScaler\n",
    "from sklearn.decomposition import PCA\n",
    "from sklearn.linear_model import LogisticRegression\n",
    "from sklearn.tree import DecisionTreeClassifier\n",
    "from sklearn.naive_bayes import GaussianNB\n",
    "from sklearn.svm import SVC\n",
    "from sklearn.ensemble import ExtraTreesClassifier\n",
    "from sklearn.pipeline import make_pipeline\n",
    "from sklearn.model_selection import cross_val_score, KFold\n",
    "from sklearn.metrics import f1_score\n",
    "\n",
    "sb.set_style('dark')"
   ]
  },
  {
   "cell_type": "markdown",
   "metadata": {},
   "source": [
    "## Preprocess the dataset\n",
    "\n",
    "As always, let's start by loading the dataset and preprocessing it. We will create 2 pipelines - one with normalization and box-cox transform only, the other with PCA as well."
   ]
  },
  {
   "cell_type": "code",
   "execution_count": 2,
   "metadata": {
    "collapsed": false
   },
   "outputs": [],
   "source": [
    "data, target = process.load_dataset_target('data/train.csv', 'data/train_target.csv')\n",
    "target = target[0]"
   ]
  },
  {
   "cell_type": "code",
   "execution_count": 3,
   "metadata": {
    "collapsed": false
   },
   "outputs": [],
   "source": [
    "data_pipe = make_pipeline(transforms.LowVarianceRemover(), transforms.BoxcoxTransform(), StandardScaler())\n",
    "data_pipe_pca = make_pipeline(transforms.LowVarianceRemover(), transforms.BoxcoxTransform(), StandardScaler(), PCA())"
   ]
  },
  {
   "cell_type": "code",
   "execution_count": 4,
   "metadata": {
    "collapsed": true
   },
   "outputs": [],
   "source": [
    "data_norm = data_pipe.fit_transform(data)\n",
    "data_norm_pca = data_pipe_pca.fit_transform(data)"
   ]
  },
  {
   "cell_type": "markdown",
   "metadata": {},
   "source": [
    "Let's also load and preprocess the validation dataset."
   ]
  },
  {
   "cell_type": "code",
   "execution_count": 5,
   "metadata": {
    "collapsed": false
   },
   "outputs": [],
   "source": [
    "valdata, valtarget = process.load_dataset_target('data/valid.csv', 'data/valid_target.csv')\n",
    "valtarget = valtarget[0]"
   ]
  },
  {
   "cell_type": "code",
   "execution_count": 6,
   "metadata": {
    "collapsed": true
   },
   "outputs": [],
   "source": [
    "valdata_norm = data_pipe.fit(data).transform(valdata)\n",
    "valdata_norm_pca = data_pipe_pca.fit(data).transform(valdata)"
   ]
  },
  {
   "cell_type": "markdown",
   "metadata": {},
   "source": [
    "## Models using preprocessed data\n",
    "\n",
    "Now let's train the models using the data. First we'll use the data without PCA. We will be only using a sample of the data to decrease the time it takes to train the models."
   ]
  },
  {
   "cell_type": "code",
   "execution_count": 7,
   "metadata": {
    "collapsed": false
   },
   "outputs": [],
   "source": [
    "sample = rnd.sample(list(data.index.values), 400000)\n",
    "data_sample = data_norm[sample]\n",
    "target_sample = target[sample].values"
   ]
  },
  {
   "cell_type": "code",
   "execution_count": 8,
   "metadata": {
    "collapsed": true
   },
   "outputs": [],
   "source": [
    "valdata_sample = valdata_norm[sample]\n",
    "valtarget_sample = valtarget[sample].values"
   ]
  },
  {
   "cell_type": "markdown",
   "metadata": {},
   "source": [
    "### Logistic regression"
   ]
  },
  {
   "cell_type": "code",
   "execution_count": 9,
   "metadata": {
    "collapsed": false
   },
   "outputs": [
    {
     "name": "stderr",
     "output_type": "stream",
     "text": [
      "/usr/local/lib/python3.5/site-packages/sklearn/metrics/classification.py:1113: UndefinedMetricWarning: F-score is ill-defined and being set to 0.0 in labels with no predicted samples.\n",
      "  'precision', 'predicted', average, warn_for)\n",
      "/usr/local/lib/python3.5/site-packages/sklearn/metrics/classification.py:1113: UndefinedMetricWarning: F-score is ill-defined and being set to 0.0 in labels with no predicted samples.\n",
      "  'precision', 'predicted', average, warn_for)\n",
      "/usr/local/lib/python3.5/site-packages/sklearn/metrics/classification.py:1113: UndefinedMetricWarning: F-score is ill-defined and being set to 0.0 in labels with no predicted samples.\n",
      "  'precision', 'predicted', average, warn_for)\n"
     ]
    }
   ],
   "source": [
    "logreg = make_pipeline(LogisticRegression())\n",
    "logreg_models = []\n",
    "logreg_scores = []\n",
    "for train, test in KFold().split(data_sample):\n",
    "    data_train, data_test, target_train, target_test = data_sample[train], data_sample[test], target_sample[train], target_sample[test]\n",
    "    model = logreg.fit(data_train, target_train)\n",
    "    score = f1_score(target_test, model.predict(data_test), average='macro')\n",
    "    logreg_models.append(model)\n",
    "    logreg_scores.append(score)"
   ]
  },
  {
   "cell_type": "code",
   "execution_count": 10,
   "metadata": {
    "collapsed": true
   },
   "outputs": [],
   "source": [
    "logreg_model = logreg_models[np.argmax(logreg_scores)]"
   ]
  },
  {
   "cell_type": "markdown",
   "metadata": {},
   "source": [
    "### Decision tree"
   ]
  },
  {
   "cell_type": "code",
   "execution_count": 11,
   "metadata": {
    "collapsed": false
   },
   "outputs": [],
   "source": [
    "dtree = make_pipeline(DecisionTreeClassifier())\n",
    "dtree_models = []\n",
    "dtree_scores = []\n",
    "for train, test in KFold().split(data_sample):\n",
    "    data_train, data_test, target_train, target_test = data_sample[train], data_sample[test], target_sample[train], target_sample[test]\n",
    "    model = dtree.fit(data_train, target_train)\n",
    "    score = f1_score(target_test, model.predict(data_test), average='macro')\n",
    "    dtree_models.append(model)\n",
    "    dtree_scores.append(score)"
   ]
  },
  {
   "cell_type": "code",
   "execution_count": 12,
   "metadata": {
    "collapsed": true
   },
   "outputs": [],
   "source": [
    "dtree_model = dtree_models[np.argmax(dtree_scores)]"
   ]
  },
  {
   "cell_type": "markdown",
   "metadata": {},
   "source": [
    "### Gaussian naive bayes"
   ]
  },
  {
   "cell_type": "code",
   "execution_count": 13,
   "metadata": {
    "collapsed": false
   },
   "outputs": [],
   "source": [
    "gnb = make_pipeline(GaussianNB())\n",
    "gnb_models = []\n",
    "gnb_scores = []\n",
    "for train, test in KFold().split(data_sample):\n",
    "    data_train, data_test, target_train, target_test = data_sample[train], data_sample[test], target_sample[train], target_sample[test]\n",
    "    model = gnb.fit(data_train, target_train)\n",
    "    score = f1_score(target_test, model.predict(data_test), average='macro')\n",
    "    gnb_models.append(model)\n",
    "    gnb_scores.append(score)"
   ]
  },
  {
   "cell_type": "code",
   "execution_count": 14,
   "metadata": {
    "collapsed": true
   },
   "outputs": [],
   "source": [
    "gnb_model = gnb_models[np.argmax(gnb_scores)]"
   ]
  },
  {
   "cell_type": "markdown",
   "metadata": {},
   "source": [
    "### Support vector classifier"
   ]
  },
  {
   "cell_type": "code",
   "execution_count": 15,
   "metadata": {
    "collapsed": false
   },
   "outputs": [
    {
     "name": "stderr",
     "output_type": "stream",
     "text": [
      "/usr/local/lib/python3.5/site-packages/sklearn/metrics/classification.py:1113: UndefinedMetricWarning: F-score is ill-defined and being set to 0.0 in labels with no predicted samples.\n",
      "  'precision', 'predicted', average, warn_for)\n",
      "/usr/local/lib/python3.5/site-packages/sklearn/metrics/classification.py:1113: UndefinedMetricWarning: F-score is ill-defined and being set to 0.0 in labels with no predicted samples.\n",
      "  'precision', 'predicted', average, warn_for)\n",
      "/usr/local/lib/python3.5/site-packages/sklearn/metrics/classification.py:1113: UndefinedMetricWarning: F-score is ill-defined and being set to 0.0 in labels with no predicted samples.\n",
      "  'precision', 'predicted', average, warn_for)\n"
     ]
    }
   ],
   "source": [
    "svc = make_pipeline(SVC())\n",
    "svc_models = []\n",
    "svc_scores = []\n",
    "for train, test in KFold().split(data_sample):\n",
    "    data_train, data_test, target_train, target_test = data_sample[train], data_sample[test], target_sample[train], target_sample[test]\n",
    "    model = svc.fit(data_train, target_train)\n",
    "    score = f1_score(target_test, model.predict(data_test), average='macro')\n",
    "    svc_models.append(model)\n",
    "    svc_scores.append(score)"
   ]
  },
  {
   "cell_type": "code",
   "execution_count": 16,
   "metadata": {
    "collapsed": true
   },
   "outputs": [],
   "source": [
    "svc_model = svc_models[np.argmax(svc_scores)]"
   ]
  },
  {
   "cell_type": "markdown",
   "metadata": {},
   "source": [
    "### Extra trees"
   ]
  },
  {
   "cell_type": "code",
   "execution_count": 17,
   "metadata": {
    "collapsed": false
   },
   "outputs": [],
   "source": [
    "xtrees = make_pipeline(ExtraTreesClassifier())\n",
    "xtrees_models = []\n",
    "xtrees_scores = []\n",
    "for train, test in KFold().split(data_sample):\n",
    "    data_train, data_test, target_train, target_test = data_sample[train], data_sample[test], target_sample[train], target_sample[test]\n",
    "    model = xtrees.fit(data_train, target_train)\n",
    "    score = f1_score(target_test, model.predict(data_test), average='macro')\n",
    "    xtrees_models.append(model)\n",
    "    xtrees_scores.append(score)"
   ]
  },
  {
   "cell_type": "code",
   "execution_count": 18,
   "metadata": {
    "collapsed": true
   },
   "outputs": [],
   "source": [
    "xtrees_model = xtrees_models[np.argmax(xtrees_scores)]"
   ]
  },
  {
   "cell_type": "markdown",
   "metadata": {},
   "source": [
    "## Evaluation\n",
    "\n",
    "Now that all the models are trained, let's use their models to predict for the validation dataset. Calculate the macro F1 score for each model."
   ]
  },
  {
   "cell_type": "code",
   "execution_count": 19,
   "metadata": {
    "collapsed": false
   },
   "outputs": [],
   "source": [
    "labels = ['Logistic\\nregression', 'Decision tree', 'Gaussian\\nnaive bayes', 'Support vector\\nclassifier', 'Extra trees']\n",
    "models = [logreg_model, dtree_model, gnb_model, svc_model, xtrees_model]"
   ]
  },
  {
   "cell_type": "code",
   "execution_count": 20,
   "metadata": {
    "collapsed": false
   },
   "outputs": [
    {
     "name": "stderr",
     "output_type": "stream",
     "text": [
      "/usr/local/lib/python3.5/site-packages/sklearn/metrics/classification.py:1113: UndefinedMetricWarning: F-score is ill-defined and being set to 0.0 in labels with no predicted samples.\n",
      "  'precision', 'predicted', average, warn_for)\n"
     ]
    }
   ],
   "source": [
    "scores = [f1_score(valtarget_sample, model.predict(valdata_sample), average='macro') for model in models]"
   ]
  },
  {
   "cell_type": "code",
   "execution_count": 21,
   "metadata": {
    "collapsed": false
   },
   "outputs": [
    {
     "data": {
      "text/plain": [
       "<matplotlib.text.Text at 0x1111742e8>"
      ]
     },
     "execution_count": 21,
     "metadata": {},
     "output_type": "execute_result"
    },
    {
     "data": {
      "image/png": "[encoded data removed]",
      "text/plain": [
       "<matplotlib.figure.Figure at 0x109331160>"
      ]
     },
     "metadata": {},
     "output_type": "display_data"
    }
   ],
   "source": [
    "sb.barplot(labels, scores)\n",
    "plt.title('Performance of various models')\n",
    "plt.ylabel('F1 score')"
   ]
  },
  {
   "cell_type": "markdown",
   "metadata": {},
   "source": [
    "## PCA data\n",
    "\n",
    "Now let's train the same models on the data preprocessed using PCA.\n",
    "\n",
    "*NOTE: I just found `%time` and will use it from now on. The models above took about 2 hours to train, predict, and score.*"
   ]
  },
  {
   "cell_type": "code",
   "execution_count": 22,
   "metadata": {
    "collapsed": false
   },
   "outputs": [],
   "source": [
    "sample_pca = rnd.sample(list(data.index.values), 400000)\n",
    "data_sample_pca = data_norm_pca[sample_pca]\n",
    "target_sample_pca = target[sample_pca].values"
   ]
  },
  {
   "cell_type": "code",
   "execution_count": 23,
   "metadata": {
    "collapsed": true
   },
   "outputs": [],
   "source": [
    "valdata_sample_pca = valdata_norm_pca[sample_pca]\n",
    "valtarget_sample_pca = valtarget[sample_pca].values"
   ]
  },
  {
   "cell_type": "markdown",
   "metadata": {},
   "source": [
    "### Logistic regression"
   ]
  },
  {
   "cell_type": "code",
   "execution_count": 25,
   "metadata": {
    "collapsed": false
   },
   "outputs": [
    {
     "name": "stdout",
     "output_type": "stream",
     "text": [
      "training a model\n"
     ]
    },
    {
     "name": "stderr",
     "output_type": "stream",
     "text": [
      "/usr/local/lib/python3.5/site-packages/sklearn/metrics/classification.py:1113: UndefinedMetricWarning: F-score is ill-defined and being set to 0.0 in labels with no predicted samples.\n",
      "  'precision', 'predicted', average, warn_for)\n"
     ]
    },
    {
     "name": "stdout",
     "output_type": "stream",
     "text": [
      "model score is 0.508749\n",
      "training a model\n"
     ]
    },
    {
     "name": "stderr",
     "output_type": "stream",
     "text": [
      "/usr/local/lib/python3.5/site-packages/sklearn/metrics/classification.py:1113: UndefinedMetricWarning: F-score is ill-defined and being set to 0.0 in labels with no predicted samples.\n",
      "  'precision', 'predicted', average, warn_for)\n"
     ]
    },
    {
     "name": "stdout",
     "output_type": "stream",
     "text": [
      "model score is 0.512362\n",
      "training a model\n",
      "model score is 0.509241\n",
      "CPU times: user 11min 50s, sys: 1.81 s, total: 11min 52s\n",
      "Wall time: 11min 53s\n"
     ]
    },
    {
     "name": "stderr",
     "output_type": "stream",
     "text": [
      "/usr/local/lib/python3.5/site-packages/sklearn/metrics/classification.py:1113: UndefinedMetricWarning: F-score is ill-defined and being set to 0.0 in labels with no predicted samples.\n",
      "  'precision', 'predicted', average, warn_for)\n"
     ]
    }
   ],
   "source": [
    "%%time\n",
    "logreg_models_pca = []\n",
    "logreg_scores_pca = []\n",
    "for train, test in KFold().split(data_sample_pca):\n",
    "    print('training a model')\n",
    "    data_train, data_test, target_train, target_test = data_sample_pca[train], data_sample_pca[test], target_sample_pca[train], target_sample_pca[test]\n",
    "    model = logreg.fit(data_train, target_train)\n",
    "    score = f1_score(target_test, model.predict(data_test), average='macro')\n",
    "    print('model score is %f' % score)\n",
    "    logreg_models_pca.append(model)\n",
    "    logreg_scores_pca.append(score)"
   ]
  },
  {
   "cell_type": "code",
   "execution_count": 26,
   "metadata": {
    "collapsed": true
   },
   "outputs": [],
   "source": [
    "logreg_model_pca = logreg_models_pca[np.argmax(logreg_scores_pca)]"
   ]
  },
  {
   "cell_type": "markdown",
   "metadata": {},
   "source": [
    "### Decision tree"
   ]
  },
  {
   "cell_type": "code",
   "execution_count": 27,
   "metadata": {
    "collapsed": false
   },
   "outputs": [
    {
     "name": "stdout",
     "output_type": "stream",
     "text": [
      "training a model\n",
      "model score is 0.753065\n",
      "training a model\n",
      "model score is 0.747894\n",
      "training a model\n",
      "model score is 0.753051\n",
      "CPU times: user 2min 40s, sys: 430 ms, total: 2min 40s\n",
      "Wall time: 2min 40s\n"
     ]
    }
   ],
   "source": [
    "%%time\n",
    "dtree_models_pca = []\n",
    "dtree_scores_pca = []\n",
    "for train, test in KFold().split(data_sample_pca):\n",
    "    print('training a model')\n",
    "    data_train, data_test, target_train, target_test = data_sample_pca[train], data_sample_pca[test], target_sample_pca[train], target_sample_pca[test]\n",
    "    model = dtree.fit(data_train, target_train)\n",
    "    score = f1_score(target_test, model.predict(data_test), average='macro')\n",
    "    print('model score is %f' % score)\n",
    "    dtree_models_pca.append(model)\n",
    "    dtree_scores_pca.append(score)"
   ]
  },
  {
   "cell_type": "code",
   "execution_count": 28,
   "metadata": {
    "collapsed": true
   },
   "outputs": [],
   "source": [
    "dtree_model_pca = dtree_models_pca[np.argmax(dtree_scores_pca)]"
   ]
  },
  {
   "cell_type": "markdown",
   "metadata": {},
   "source": [
    "### Gaussian naive bayes"
   ]
  },
  {
   "cell_type": "code",
   "execution_count": 29,
   "metadata": {
    "collapsed": false
   },
   "outputs": [
    {
     "name": "stdout",
     "output_type": "stream",
     "text": [
      "training a model\n",
      "model score is 0.468766\n",
      "training a model\n",
      "model score is 0.469160\n",
      "training a model\n",
      "model score is 0.459198\n",
      "CPU times: user 3.05 s, sys: 1.78 s, total: 4.83 s\n",
      "Wall time: 4.84 s\n"
     ]
    }
   ],
   "source": [
    "%%time\n",
    "gnb_models_pca = []\n",
    "gnb_scores_pca = []\n",
    "for train, test in KFold().split(data_sample_pca):\n",
    "    print('training a model')\n",
    "    data_train, data_test, target_train, target_test = data_sample_pca[train], data_sample_pca[test], target_sample_pca[train], target_sample_pca[test]\n",
    "    model = gnb.fit(data_train, target_train)\n",
    "    score = f1_score(target_test, model.predict(data_test), average='macro')\n",
    "    print('model score is %f' % score)\n",
    "    gnb_models_pca.append(model)\n",
    "    gnb_scores_pca.append(score)"
   ]
  },
  {
   "cell_type": "code",
   "execution_count": 30,
   "metadata": {
    "collapsed": true
   },
   "outputs": [],
   "source": [
    "gnb_model_pca = gnb_models_pca[np.argmax(gnb_scores_pca)]"
   ]
  },
  {
   "cell_type": "markdown",
   "metadata": {},
   "source": [
    "### Extra trees"
   ]
  },
  {
   "cell_type": "code",
   "execution_count": 31,
   "metadata": {
    "collapsed": false
   },
   "outputs": [
    {
     "name": "stdout",
     "output_type": "stream",
     "text": [
      "training a model\n",
      "model score is 0.830104\n",
      "training a model\n",
      "model score is 0.819630\n",
      "training a model\n",
      "model score is 0.814714\n",
      "CPU times: user 15.8 s, sys: 844 ms, total: 16.7 s\n",
      "Wall time: 16.7 s\n"
     ]
    }
   ],
   "source": [
    "%%time\n",
    "xtrees_models_pca = []\n",
    "xtrees_scores_pca = []\n",
    "for train, test in KFold().split(data_sample_pca):\n",
    "    print('training a model')\n",
    "    data_train, data_test, target_train, target_test = data_sample_pca[train], data_sample_pca[test], target_sample_pca[train], target_sample_pca[test]\n",
    "    model = xtrees.fit(data_train, target_train)\n",
    "    score = f1_score(target_test, model.predict(data_test), average='macro')\n",
    "    print('model score is %f' % score)\n",
    "    xtrees_models_pca.append(model)\n",
    "    xtrees_scores_pca.append(score)"
   ]
  },
  {
   "cell_type": "code",
   "execution_count": 32,
   "metadata": {
    "collapsed": true
   },
   "outputs": [],
   "source": [
    "xtrees_model_pca = xtrees_models_pca[np.argmax(xtrees_scores_pca)]"
   ]
  },
  {
   "cell_type": "markdown",
   "metadata": {},
   "source": [
    "## Evaluation\n",
    "\n",
    "Let's look into how these models perform on the validation data. Will they perform better or worse than models without PCA?"
   ]
  },
  {
   "cell_type": "code",
   "execution_count": 34,
   "metadata": {
    "collapsed": false
   },
   "outputs": [],
   "source": [
    "labels_pca = ['Logistic\\nregression', 'Decision tree', 'Gaussian\\nnaive bayes', 'Extra trees']\n",
    "models_pca = [logreg_model_pca, dtree_model_pca, gnb_model_pca, xtrees_model_pca]"
   ]
  },
  {
   "cell_type": "code",
   "execution_count": 35,
   "metadata": {
    "collapsed": false
   },
   "outputs": [
    {
     "name": "stderr",
     "output_type": "stream",
     "text": [
      "/usr/local/lib/python3.5/site-packages/sklearn/metrics/classification.py:1113: UndefinedMetricWarning: F-score is ill-defined and being set to 0.0 in labels with no predicted samples.\n",
      "  'precision', 'predicted', average, warn_for)\n"
     ]
    },
    {
     "name": "stdout",
     "output_type": "stream",
     "text": [
      "CPU times: user 4.45 s, sys: 3.26 s, total: 7.71 s\n",
      "Wall time: 7.48 s\n"
     ]
    }
   ],
   "source": [
    "%%time\n",
    "scores_pca = [f1_score(valtarget_sample_pca, model.predict(valdata_sample_pca), average='macro') for model in models_pca]"
   ]
  },
  {
   "cell_type": "code",
   "execution_count": 36,
   "metadata": {
    "collapsed": false
   },
   "outputs": [
    {
     "data": {
      "text/plain": [
       "<matplotlib.text.Text at 0x111786358>"
      ]
     },
     "execution_count": 36,
     "metadata": {},
     "output_type": "execute_result"
    },
    {
     "data": {
      "image/png": "[encoded data removed]",
      "text/plain": [
       "<matplotlib.figure.Figure at 0x10f1a5208>"
      ]
     },
     "metadata": {},
     "output_type": "display_data"
    }
   ],
   "source": [
    "sb.barplot(labels_pca, scores_pca)\n",
    "plt.title('Performace of various models using PCA')\n",
    "plt.ylabel('F1 score')"
   ]
  }
 ],
 "metadata": {
  "kernelspec": {
   "display_name": "Python 3",
   "language": "python",
   "name": "python3"
  },
  "language_info": {
   "codemirror_mode": {
    "name": "ipython",
    "version": 3
   },
   "file_extension": ".py",
   "mimetype": "text/x-python",
   "name": "python",
   "nbconvert_exporter": "python",
   "pygments_lexer": "ipython3",
   "version": "3.5.2"
  }
 },
 "nbformat": 4,
 "nbformat_minor": 1
}
